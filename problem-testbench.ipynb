{
 "cells": [
  {
   "cell_type": "markdown",
   "metadata": {},
   "source": [
    "### See solution_array_of_change below, I tried that and got OK performance, but not perfect... it's actually a recursive solution as well"
   ]
  },
  {
   "cell_type": "markdown",
   "metadata": {},
   "source": [
    "### Idea: Recursive solution\n",
    "The substring to be removed either starts from left edge, right edge or is a chunk in the middle.\n",
    "\n",
    "Solution = min(three solutions)"
   ]
  },
  {
   "cell_type": "code",
   "execution_count": 219,
   "metadata": {},
   "outputs": [],
   "source": [
    "def idx_chop_left(S):\n",
    "    ''' find index of second character in S \n",
    "        Example: S=\"abc\", \"a\" appears once, return 1 (\"b\" != \"a\")\n",
    "        Example: S=\"aabc\", \"a\" appears twice, return 2 \n",
    "    '''\n",
    "    char = S[0]\n",
    "    idx_next=1\n",
    "    while S[idx_next] == char:\n",
    "        idx_next += 1\n",
    "    return idx_next\n",
    "    "
   ]
  },
  {
   "cell_type": "code",
   "execution_count": 220,
   "metadata": {},
   "outputs": [],
   "source": [
    "def solution_left(S, K):\n",
    "    ''' Find shortest substring to remove, leaving S with K different characters.\n",
    "        Substring starts from beginning of S \n",
    "    '''\n",
    "    if K == 0: return len(S)\n",
    "    if len(set(S)) == K: return 0 # SUCCESS: no removal needed\n",
    "    idx_new_left = idx_chop_left(S)\n",
    "    return idx_new_left + solution_left(S[idx_new_left:], K)"
   ]
  },
  {
   "cell_type": "code",
   "execution_count": 221,
   "metadata": {},
   "outputs": [
    {
     "name": "stdout",
     "output_type": "stream",
     "text": [
      "S = aabc, K = 2, solution_left = 2\n",
      "S = aa, K = 1, solution_left = 0\n",
      "S = asdf, K = 0, solution_left = 4\n",
      "S = foobar, K = 3, solution_left = 3\n",
      "S = asdfaaamoo, K = 4, solution_left = 3\n"
     ]
    }
   ],
   "source": [
    "def test_solution_left():\n",
    "    test_set = [('aabc', 2),\n",
    "                ('aa', 1),\n",
    "                ('asdf', 0), \n",
    "                ('foobar', 3),\n",
    "               ('asdfaaamoo', 4)]\n",
    "    for test in test_set:\n",
    "        print(\"S = {}, K = {}, solution_left = {}\".format(test[0], test[1], solution_left(test[0], test[1])))\n",
    "\n",
    "test_solution_left()"
   ]
  },
  {
   "cell_type": "code",
   "execution_count": 222,
   "metadata": {},
   "outputs": [],
   "source": [
    "def idx_chop_right(S):\n",
    "    ''' Find index of first new character in S, counting from the end\n",
    "        Example: S=\"abc\", \"c\" appears once, index = 2\n",
    "        Example: S=\"abccc\", \"c\", appears three times, index = 2\n",
    "    '''\n",
    "    char=S[-1]\n",
    "    idx_next = len(S)-2\n",
    "    while S[idx_next] == char:\n",
    "        idx_next -= 1\n",
    "    return idx_next+1\n",
    "    "
   ]
  },
  {
   "cell_type": "code",
   "execution_count": 223,
   "metadata": {},
   "outputs": [],
   "source": [
    "def solution_right(S, K):\n",
    "    ''' Find shortest substring to remove, leaving S with K different characters.\n",
    "        Substring starts from end of S (walking from right to left) '''\n",
    "    if K == 0: return len(S)\n",
    "    if len(set(S)) == K: return 0 # SUCCESS: no removal needed\n",
    "    idx_right = idx_chop_right(S)\n",
    "    #print(\"S={},idx_right={},S[0:idx_right]={}\".format(S,idx_right,S[0:idx_right]))\n",
    "    return len(S) - idx_right + solution_right(S[0:idx_right], K)"
   ]
  },
  {
   "cell_type": "code",
   "execution_count": 224,
   "metadata": {},
   "outputs": [
    {
     "name": "stdout",
     "output_type": "stream",
     "text": [
      "S = aabc, K = 2, solution_right = 1\n",
      "S = aa, K = 1, solution_right = 0\n",
      "S = asdf, K = 0, solution_right = 4\n",
      "S = foobar, K = 3, solution_right = 2\n",
      "S = asdfaaamoo, K = 4, solution_right = 3\n"
     ]
    }
   ],
   "source": [
    "def test_solution_right():\n",
    "    test_set = [('aabc', 2),\n",
    "                ('aa', 1),\n",
    "                ('asdf', 0), \n",
    "                ('foobar', 3),\n",
    "               ('asdfaaamoo', 4)]\n",
    "    for test in test_set:\n",
    "        print(\"S = {}, K = {}, solution_right = {}\".format(test[0], test[1], solution_right(test[0], test[1])))\n",
    "\n",
    "test_solution_right()"
   ]
  },
  {
   "cell_type": "code",
   "execution_count": 225,
   "metadata": {},
   "outputs": [],
   "source": [
    "def solution_middle_test(S, K):\n",
    "    ''' Find shortest substring to remove, leaving S with K different characters.\n",
    "        Substring does not include left and right edges of S '''\n",
    "    if K == 0: return len(S)\n",
    "    if len(set(S)) == K: return 0 # SUCCESS: no removal needed\n",
    "    #if len(S) < 3:\n",
    "    #    return 3 # use a too large value to signal that no middle solution exists\n",
    "    \n",
    "    #(char_start, char_end) = (S[0], S[-1])\n",
    "    #char_edges = set((char_start, char_end))\n",
    "    char_edges = set((S[0], S[-1]))\n",
    "    \n",
    "    (idx_left, idx_right) = chop_edges(S)\n",
    "    return solution(S[idx_left: idx_right], K - len(char_edges))"
   ]
  },
  {
   "cell_type": "code",
   "execution_count": 226,
   "metadata": {},
   "outputs": [],
   "source": [
    "def solution_recursive(S, K):\n",
    "    ''' Find shortest substring to remove, leaving S with K different characters.\n",
    "    '''\n",
    "    if len(set(S)) < K: return -1 # S doesn't contain enough different characters. Example S='acc', K=3\n",
    "    if K==0: return len(S)        # remove full string \n",
    "    return min(solution_left(S, K), solution_right(S, K), solution_middle(S, K))"
   ]
  },
  {
   "cell_type": "code",
   "execution_count": 227,
   "metadata": {},
   "outputs": [
    {
     "name": "stdout",
     "output_type": "stream",
     "text": [
      "sol_middle: S=aabc\n",
      "remainder=aac\n",
      "chop_maximum_from_right:: S = b, K=2, charset_remainder={'c', 'a'}\n",
      "about to return remaining (post chopped-off) length of string = 1\n",
      "do_middle = True\n"
     ]
    },
    {
     "ename": "IndexError",
     "evalue": "string index out of range",
     "output_type": "error",
     "traceback": [
      "\u001b[0;31m---------------------------------------------------------------------------\u001b[0m",
      "\u001b[0;31mIndexError\u001b[0m                                Traceback (most recent call last)",
      "\u001b[0;32m<ipython-input-227-542a73c36f82>\u001b[0m in \u001b[0;36m<module>\u001b[0;34m\u001b[0m\n\u001b[1;32m      8\u001b[0m     \u001b[0;32mfor\u001b[0m \u001b[0mtest\u001b[0m \u001b[0;32min\u001b[0m \u001b[0mtest_set\u001b[0m\u001b[0;34m:\u001b[0m\u001b[0;34m\u001b[0m\u001b[0;34m\u001b[0m\u001b[0m\n\u001b[1;32m      9\u001b[0m         \u001b[0mprint\u001b[0m\u001b[0;34m(\u001b[0m\u001b[0;34m\"S = {}, K = {}, solution = {}\"\u001b[0m\u001b[0;34m.\u001b[0m\u001b[0mformat\u001b[0m\u001b[0;34m(\u001b[0m\u001b[0mtest\u001b[0m\u001b[0;34m[\u001b[0m\u001b[0;36m0\u001b[0m\u001b[0;34m]\u001b[0m\u001b[0;34m,\u001b[0m \u001b[0mtest\u001b[0m\u001b[0;34m[\u001b[0m\u001b[0;36m1\u001b[0m\u001b[0;34m]\u001b[0m\u001b[0;34m,\u001b[0m \u001b[0msolution_recursive\u001b[0m\u001b[0;34m(\u001b[0m\u001b[0mtest\u001b[0m\u001b[0;34m[\u001b[0m\u001b[0;36m0\u001b[0m\u001b[0;34m]\u001b[0m\u001b[0;34m,\u001b[0m \u001b[0mtest\u001b[0m\u001b[0;34m[\u001b[0m\u001b[0;36m1\u001b[0m\u001b[0;34m]\u001b[0m\u001b[0;34m)\u001b[0m\u001b[0;34m)\u001b[0m\u001b[0;34m)\u001b[0m\u001b[0;34m\u001b[0m\u001b[0;34m\u001b[0m\u001b[0m\n\u001b[0;32m---> 10\u001b[0;31m \u001b[0mtest_solution_recursive\u001b[0m\u001b[0;34m(\u001b[0m\u001b[0;34m)\u001b[0m\u001b[0;34m\u001b[0m\u001b[0;34m\u001b[0m\u001b[0m\n\u001b[0m",
      "\u001b[0;32m<ipython-input-227-542a73c36f82>\u001b[0m in \u001b[0;36mtest_solution_recursive\u001b[0;34m()\u001b[0m\n\u001b[1;32m      7\u001b[0m                ('baaaaaa', 1)]\n\u001b[1;32m      8\u001b[0m     \u001b[0;32mfor\u001b[0m \u001b[0mtest\u001b[0m \u001b[0;32min\u001b[0m \u001b[0mtest_set\u001b[0m\u001b[0;34m:\u001b[0m\u001b[0;34m\u001b[0m\u001b[0;34m\u001b[0m\u001b[0m\n\u001b[0;32m----> 9\u001b[0;31m         \u001b[0mprint\u001b[0m\u001b[0;34m(\u001b[0m\u001b[0;34m\"S = {}, K = {}, solution = {}\"\u001b[0m\u001b[0;34m.\u001b[0m\u001b[0mformat\u001b[0m\u001b[0;34m(\u001b[0m\u001b[0mtest\u001b[0m\u001b[0;34m[\u001b[0m\u001b[0;36m0\u001b[0m\u001b[0;34m]\u001b[0m\u001b[0;34m,\u001b[0m \u001b[0mtest\u001b[0m\u001b[0;34m[\u001b[0m\u001b[0;36m1\u001b[0m\u001b[0;34m]\u001b[0m\u001b[0;34m,\u001b[0m \u001b[0msolution_recursive\u001b[0m\u001b[0;34m(\u001b[0m\u001b[0mtest\u001b[0m\u001b[0;34m[\u001b[0m\u001b[0;36m0\u001b[0m\u001b[0;34m]\u001b[0m\u001b[0;34m,\u001b[0m \u001b[0mtest\u001b[0m\u001b[0;34m[\u001b[0m\u001b[0;36m1\u001b[0m\u001b[0;34m]\u001b[0m\u001b[0;34m)\u001b[0m\u001b[0;34m)\u001b[0m\u001b[0;34m)\u001b[0m\u001b[0;34m\u001b[0m\u001b[0;34m\u001b[0m\u001b[0m\n\u001b[0m\u001b[1;32m     10\u001b[0m \u001b[0mtest_solution_recursive\u001b[0m\u001b[0;34m(\u001b[0m\u001b[0;34m)\u001b[0m\u001b[0;34m\u001b[0m\u001b[0;34m\u001b[0m\u001b[0m\n",
      "\u001b[0;32m<ipython-input-226-79807ebd6a60>\u001b[0m in \u001b[0;36msolution_recursive\u001b[0;34m(S, K)\u001b[0m\n\u001b[1;32m      4\u001b[0m     \u001b[0;32mif\u001b[0m \u001b[0mlen\u001b[0m\u001b[0;34m(\u001b[0m\u001b[0mset\u001b[0m\u001b[0;34m(\u001b[0m\u001b[0mS\u001b[0m\u001b[0;34m)\u001b[0m\u001b[0;34m)\u001b[0m \u001b[0;34m<\u001b[0m \u001b[0mK\u001b[0m\u001b[0;34m:\u001b[0m \u001b[0;32mreturn\u001b[0m \u001b[0;34m-\u001b[0m\u001b[0;36m1\u001b[0m \u001b[0;31m# S doesn't contain enough different characters. Example S='acc', K=3\u001b[0m\u001b[0;34m\u001b[0m\u001b[0;34m\u001b[0m\u001b[0m\n\u001b[1;32m      5\u001b[0m     \u001b[0;32mif\u001b[0m \u001b[0mK\u001b[0m\u001b[0;34m==\u001b[0m\u001b[0;36m0\u001b[0m\u001b[0;34m:\u001b[0m \u001b[0;32mreturn\u001b[0m \u001b[0mlen\u001b[0m\u001b[0;34m(\u001b[0m\u001b[0mS\u001b[0m\u001b[0;34m)\u001b[0m        \u001b[0;31m# remove full string\u001b[0m\u001b[0;34m\u001b[0m\u001b[0;34m\u001b[0m\u001b[0m\n\u001b[0;32m----> 6\u001b[0;31m     \u001b[0;32mreturn\u001b[0m \u001b[0mmin\u001b[0m\u001b[0;34m(\u001b[0m\u001b[0msolution_left\u001b[0m\u001b[0;34m(\u001b[0m\u001b[0mS\u001b[0m\u001b[0;34m,\u001b[0m \u001b[0mK\u001b[0m\u001b[0;34m)\u001b[0m\u001b[0;34m,\u001b[0m \u001b[0msolution_right\u001b[0m\u001b[0;34m(\u001b[0m\u001b[0mS\u001b[0m\u001b[0;34m,\u001b[0m \u001b[0mK\u001b[0m\u001b[0;34m)\u001b[0m\u001b[0;34m,\u001b[0m \u001b[0msolution_middle\u001b[0m\u001b[0;34m(\u001b[0m\u001b[0mS\u001b[0m\u001b[0;34m,\u001b[0m \u001b[0mK\u001b[0m\u001b[0;34m)\u001b[0m\u001b[0;34m)\u001b[0m\u001b[0;34m\u001b[0m\u001b[0;34m\u001b[0m\u001b[0m\n\u001b[0m",
      "\u001b[0;32m<ipython-input-217-c90a3399be7c>\u001b[0m in \u001b[0;36msolution_middle\u001b[0;34m(S, K, charset)\u001b[0m\n\u001b[1;32m     48\u001b[0m     \u001b[0;31m####\u001b[0m\u001b[0;34m\u001b[0m\u001b[0;34m\u001b[0m\u001b[0;34m\u001b[0m\u001b[0m\n\u001b[1;32m     49\u001b[0m     \u001b[0;32mif\u001b[0m \u001b[0mdo_middle\u001b[0m\u001b[0;34m:\u001b[0m\u001b[0;34m\u001b[0m\u001b[0;34m\u001b[0m\u001b[0m\n\u001b[0;32m---> 50\u001b[0;31m         \u001b[0msol_middle\u001b[0m \u001b[0;34m=\u001b[0m \u001b[0msolution_middle\u001b[0m\u001b[0;34m(\u001b[0m\u001b[0mS\u001b[0m\u001b[0;34m[\u001b[0m\u001b[0midx_left\u001b[0m\u001b[0;34m:\u001b[0m\u001b[0midx_right\u001b[0m\u001b[0;34m]\u001b[0m\u001b[0;34m,\u001b[0m \u001b[0mK\u001b[0m\u001b[0;34m,\u001b[0m \u001b[0mcharset\u001b[0m\u001b[0;34m)\u001b[0m \u001b[0;31m#, len(remainder))\u001b[0m\u001b[0;34m\u001b[0m\u001b[0;34m\u001b[0m\u001b[0m\n\u001b[0m\u001b[1;32m     51\u001b[0m         \u001b[0mprint\u001b[0m\u001b[0;34m(\u001b[0m\u001b[0;34m\"sol_rightedge_fixed={},\\n sol_leftedge_fixed={},\\n sol_middle={}\\n\"\u001b[0m\u001b[0;34m.\u001b[0m\u001b[0mformat\u001b[0m\u001b[0;34m(\u001b[0m\u001b[0msol_rightedge_fixed\u001b[0m\u001b[0;34m,\u001b[0m \u001b[0msol_leftedge_fixed\u001b[0m\u001b[0;34m,\u001b[0m \u001b[0msol_middle\u001b[0m\u001b[0;34m)\u001b[0m\u001b[0;34m)\u001b[0m\u001b[0;34m\u001b[0m\u001b[0;34m\u001b[0m\u001b[0m\n\u001b[1;32m     52\u001b[0m         return min(sol_rightedge_fixed,\n",
      "\u001b[0;32m<ipython-input-217-c90a3399be7c>\u001b[0m in \u001b[0;36msolution_middle\u001b[0;34m(S, K, charset)\u001b[0m\n\u001b[1;32m     16\u001b[0m     \u001b[0mchar_start\u001b[0m \u001b[0;34m=\u001b[0m \u001b[0mS\u001b[0m\u001b[0;34m[\u001b[0m\u001b[0;36m0\u001b[0m\u001b[0;34m]\u001b[0m\u001b[0;34m\u001b[0m\u001b[0;34m\u001b[0m\u001b[0m\n\u001b[1;32m     17\u001b[0m     \u001b[0midx_left\u001b[0m \u001b[0;34m=\u001b[0m \u001b[0;36m1\u001b[0m\u001b[0;34m\u001b[0m\u001b[0;34m\u001b[0m\u001b[0m\n\u001b[0;32m---> 18\u001b[0;31m     \u001b[0;32mwhile\u001b[0m \u001b[0mS\u001b[0m\u001b[0;34m[\u001b[0m\u001b[0midx_left\u001b[0m\u001b[0;34m]\u001b[0m \u001b[0;34m==\u001b[0m \u001b[0mchar_start\u001b[0m\u001b[0;34m:\u001b[0m\u001b[0;34m\u001b[0m\u001b[0;34m\u001b[0m\u001b[0m\n\u001b[0m\u001b[1;32m     19\u001b[0m         \u001b[0midx_left\u001b[0m \u001b[0;34m+=\u001b[0m \u001b[0;36m1\u001b[0m\u001b[0;34m\u001b[0m\u001b[0;34m\u001b[0m\u001b[0m\n\u001b[1;32m     20\u001b[0m     \u001b[0;31m# END (right edge):\u001b[0m\u001b[0;34m\u001b[0m\u001b[0;34m\u001b[0m\u001b[0;34m\u001b[0m\u001b[0m\n",
      "\u001b[0;31mIndexError\u001b[0m: string index out of range"
     ]
    }
   ],
   "source": [
    "def test_solution_recursive():\n",
    "    test_set = [('aabc', 2),\n",
    "                ('aa', 1),\n",
    "                ('asdf', 0), \n",
    "                ('foobar', 3),\n",
    "               ('oooooobbbbbbasdfaam', 4),\n",
    "               ('baaaaaa', 1)]\n",
    "    for test in test_set:\n",
    "        print(\"S = {}, K = {}, solution = {}\".format(test[0], test[1], solution_recursive(test[0], test[1])))\n",
    "test_solution_recursive()"
   ]
  },
  {
   "cell_type": "markdown",
   "metadata": {},
   "source": [
    "### Idea2: simpler linear solution\n",
    "Scan the string with a sliding window method, noting down characters already used."
   ]
  },
  {
   "cell_type": "code",
   "execution_count": null,
   "metadata": {},
   "outputs": [],
   "source": [
    "def solution_sliding_window(S, K):\n",
    "    ''' Find shortest substring to remove, leaving S with K different characters.\n",
    "    '''\n",
    "    char_S = set(S)\n",
    "    if len(char_S) < K: return -1 # S doesn't contain enough different characters. Example S='acc', K=3\n",
    "    if K==0: return len(S)        # remove full string\n",
    "    \n",
    "    nchars_remove = len(char_S) - K\n",
    "    #len_substr_max = len(S)\n",
    "    len_substr_min = nchars_remove # if we have to strip S of say 3 characters, the substring to remove must be at least this long\n",
    "    idx_left = 0; idx_right = len_substr_min;\n",
    "    \n"
   ]
  },
  {
   "cell_type": "markdown",
   "metadata": {},
   "source": [
    "### Idea3: array of change\n",
    "Scan the string and mark indices at which there's a change in the number of characters"
   ]
  },
  {
   "cell_type": "code",
   "execution_count": 229,
   "metadata": {},
   "outputs": [],
   "source": [
    "def solution_remove_from_right(S, indices_change, K):\n",
    "    ''' indices_change markes indices where new characters appear in S, starting from the left.\n",
    "        Return shortest substring yielding K different characters in remaining string, starting from end (right edge)\n",
    "        \n",
    "        Example: S=\"aabccab\" will have indices_change [0, 2, 3], with say K=2 we return 'ccab'\n",
    "    '''\n",
    "    #return len(S)-indices_change[K]\n",
    "    return S[indices_change[K]:]\n",
    "    "
   ]
  },
  {
   "cell_type": "code",
   "execution_count": 230,
   "metadata": {},
   "outputs": [],
   "source": [
    "def solution_remove_from_left(S, indices_change, K):\n",
    "    ''' given array marking indices of change, return shortest substring to be removed starting from beginning,\n",
    "        leaving S with K different characters\n",
    "        \n",
    "        Example: S=\"rytabbjj\" will have indices_change [7, 5, 3, 2, 1, 0], with say K=2 we return 'ryta' \n",
    "    '''    \n",
    "    #return indices_change[K]+1\n",
    "    return S[0:indices_change[K]+1]"
   ]
  },
  {
   "cell_type": "code",
   "execution_count": 291,
   "metadata": {},
   "outputs": [],
   "source": [
    "def chop_maximum_from_left(S, K, charset_remainder):\n",
    "    ''' chop S from left end, until len(charset_remainder) exceeds K.\n",
    "        Return remaining string, the one to be removed from S\n",
    "    '''\n",
    "    ## print-out\n",
    "    #print(\"chop_maximum_from_left:: S = {}, K={}, charset_remainder={}\".format(S, K, charset_remainder))\n",
    "    ## \n",
    "    \n",
    "    for idx_left in range(len(S)):\n",
    "        if len(charset_remainder) > K:\n",
    "            break\n",
    "        charset_remainder.add(S[idx_left])\n",
    "    idx_left -= 1\n",
    "    #while len(charset_remainder) <= K:\n",
    "    #    charset_remainder.add(S[idx_left])\n",
    "    #    idx_left += 1\n",
    "    #idx_left -= 1 # take one step back to revert exceeding\n",
    "        #print(\"before next while: charset_remainder={}, idx_left={}\".format(charset_remainder,idx_left))\n",
    "\n",
    "    #print(\"about to return remaining string = {}\".format(S[idx_left:]))\n",
    "    return S[idx_left:] \n",
    "### length of string\n",
    "        "
   ]
  },
  {
   "cell_type": "code",
   "execution_count": 314,
   "metadata": {},
   "outputs": [],
   "source": [
    "def chop_maximum_from_right(S, K, charset_remainder):\n",
    "    ''' chop S from end, until len(charset_remainder) exceeds K.\n",
    "        Return remaining string, to be removed from S\n",
    "    '''\n",
    "    ### print-out\n",
    "    #print(\"chop_maximum_from_right:: S = {}, K={}, charset_remainder={}\".format(S, K, charset_remainder))\n",
    "    ###\n",
    "    for idx_right in range(len(S)-1, -1, -1):\n",
    "        if len(charset_remainder) > K:\n",
    "            break\n",
    "        charset_remainder.add(S[idx_right]) #= len(S)-1\n",
    "    #while len(charset_remainder) <= K:\n",
    "    #    charset_remainder.add(S[idx_right])\n",
    "    #    idx_right -= 1\n",
    "    idx_right += 1 # revert exceeding \n",
    "    #str_len=idx_right+1\n",
    "    #print(\"idx_right = {}\".format(idx_right))\n",
    "    #print(\"remaining string: {}\".format(S[:idx_right+1]))\n",
    "    #print(\"about to return remaining string = {}\".format(S[:idx_right+1]))\n",
    "    return S[:idx_right+1]\n",
    "        "
   ]
  },
  {
   "cell_type": "code",
   "execution_count": 315,
   "metadata": {},
   "outputs": [],
   "source": [
    "def solution_middle(S, K, charset=set()): #, len_remainder=0): #, char_S):\n",
    "    ''' Find shortest substring to remove from S, not including its edges,\n",
    "        leaving remainder with K different characters.\n",
    "        Remainder from previous iterations already contains characters in charset\n",
    "    '''\n",
    "    #print(\"inside solution_middle, S={}, K={}\".format(S, K))\n",
    "    if K==0: return len(S)\n",
    "    #char_S=set(S)\n",
    "    #if len(char_S) < K: return len(S)+1 # signify no solution with too large value\n",
    "    #elif len(char_S) == K:\n",
    "    #    print(\"HERE\")\n",
    "    #    return 0 # SUCCESS no need to remove anything\n",
    "    \n",
    "    # remove edges\n",
    "    # START (left edge):\n",
    "    char_start = S[0]\n",
    "    char_end = S[-1]\n",
    "    # check that chopping off edges won't exceed K\n",
    "    if len(charset.union((char_start, char_end))) > K:\n",
    "        #print(\"HALLON\")\n",
    "        return S\n",
    "    \n",
    "    idx_left = 1\n",
    "    while S[idx_left] == char_start:\n",
    "        idx_left += 1\n",
    "    # END (right edge):\n",
    "\n",
    "    idx_right = len(S)-2\n",
    "    while S[idx_right] == char_end:\n",
    "        idx_right -= 1\n",
    "    idx_right += 1\n",
    "    \n",
    "    \n",
    "    if idx_left == idx_right:\n",
    "        print(\"idx_left == idx_right!!!\")\n",
    "        return len(S)+1 # signify no solution with too large value\n",
    "    \n",
    "    #print(\"idx_left = {}, idx_right = {}\".format(idx_left, idx_right))\n",
    "    ### print-outs\n",
    "    #print(\">>>> sol_middle called with S={}, charset={}\".format(S, charset))\n",
    "    remainder = S[0:idx_left] + S[idx_right:]\n",
    "    #print(\"Inside sol_middle() :: removed edges = {}, continuing with {}\".format(remainder, S[idx_left:idx_right]))\n",
    "    ###\n",
    "    \n",
    "    # update charset\n",
    "    charset = charset.union(set(remainder))\n",
    "    # two solutions: chop from left or right until done\n",
    "    #print(\"** CHOP FROM LEFT::\")\n",
    "    sol_rightedge_fixed =  chop_maximum_from_left(S[idx_left:idx_right], K, set(charset)) \n",
    "    #print(\"** CHOP FROM RIGHT::\")\n",
    "    sol_leftedge_fixed = chop_maximum_from_right(S[idx_left:idx_right], K, set(charset)) \n",
    "    # check if we are to continue to look for middle solution: update charset\n",
    "    \n",
    "    do_middle = len(charset) <= K # can't chop off edges without exceeding K, recursion stops\n",
    "    ### print-outs\n",
    "    #print(\"do_middle = {}\".format(do_middle))\n",
    "    ###\n",
    "    \n",
    "    ####\n",
    "    if do_middle:\n",
    "        sol_middle = solution_middle(S[idx_left:idx_right], K, charset) #, len(remainder))\n",
    "        #print(\"sol_rightedge_fixed={},\\n sol_leftedge_fixed={},\\n sol_middle={}\\n\".format(sol_rightedge_fixed, sol_leftedge_fixed, sol_middle))\n",
    "        lengths = [len(sol_leftedge_fixed), len(sol_middle), len(sol_rightedge_fixed)]\n",
    "        idx_min = lengths.index(min(lengths))\n",
    "        if idx_min==0: return sol_leftedge_fixed\n",
    "        elif idx_min==1: return sol_middle\n",
    "        else: return sol_rightedge_fixed\n",
    "        \n",
    "        #return min(sol_rightedge_fixed,\n",
    "                              #sol_leftedge_fixed,\n",
    "                              #sol_middle)\n",
    "    else:\n",
    "        len_right =  len(sol_rightedge_fixed)\n",
    "        len_left  =  len(sol_leftedge_fixed)\n",
    "        return sol_leftedge_fixed if len_left<=len_right else sol_rightedge_fixed\n",
    "            \n",
    "\n",
    "    \n",
    "    \n",
    "    \n",
    "    \n",
    "    #print(\"sol_rightedge_fixed = {}\".format(sol_rightedge_fixed))\n",
    "    #return sol_rightedge_fixed\n",
    "    \n",
    "    "
   ]
  },
  {
   "cell_type": "code",
   "execution_count": 316,
   "metadata": {},
   "outputs": [],
   "source": [
    "def solution_array_of_change(S, K):\n",
    "    ''' Find shortest substring to remove, leaving S with K different characters.\n",
    "    '''\n",
    "    if K==0: return len(S)        # remove full string\n",
    "    char_S = set(S)\n",
    "    if len(char_S) < K: return -1 # S doesn't contain enough different characters. Example S='acc', K=3\n",
    "    elif len(char_S) == K: return 0 # SUCCESS no need to remove anything\n",
    "\n",
    "    # scan array from left\n",
    "    indices_change_left = [0] # first char is new char\n",
    "    characters = set(S[0])\n",
    "    for idx in range(1, len(S)):\n",
    "        if S[idx] not in characters:\n",
    "            characters.add(S[idx])\n",
    "            indices_change_left.append(idx)\n",
    "    if not characters == char_S:\n",
    "        print(\"PROBLEM in scanning array\")\n",
    "            \n",
    "    # scan array from right\n",
    "    indices_change_right = [len(S)-1] # first char is new char\n",
    "    characters = set(S[-1])\n",
    "    for idx in range(len(S)-1, -1, -1):\n",
    "        if S[idx] not in characters:\n",
    "            characters.add(S[idx])\n",
    "            indices_change_right.append(idx)\n",
    "            \n",
    "    if not characters == char_S:\n",
    "        print(\"PROBLEM in scanning array\")\n",
    "        \n",
    "    \n",
    "    (sol_left, sol_right, sol_middle) = (solution_remove_from_right(S, indices_change_left, K),\n",
    "                                      solution_remove_from_left(S, indices_change_right, K) ,\n",
    "                                      solution_middle(S, K))\n",
    "  \n",
    "    print(\"HERE\")\n",
    "    print(\"sol_left = {},\\nsol_right = {},\\nsol_middle={}\".format(sol_left,sol_right,sol_middle))\n",
    "\n",
    "\n",
    "    \n",
    "    \n",
    "    "
   ]
  },
  {
   "cell_type": "code",
   "execution_count": 317,
   "metadata": {},
   "outputs": [
    {
     "name": "stdout",
     "output_type": "stream",
     "text": [
      "S = oooooobbbbbbasdfaam, K = 4\n",
      "solution: \n",
      "\n",
      "HERE\n",
      "sol_left = dfaam,\n",
      "sol_right = oooooobbbbbbas,\n",
      "sol_middle=sdf\n",
      "\n",
      "S = foobar, K = 3\n",
      "solution: \n",
      "\n",
      "HERE\n",
      "sol_left = ar,\n",
      "sol_right = foo,\n",
      "sol_middle=ba\n",
      "\n",
      "S = aabc, K = 2\n",
      "solution: \n",
      "\n",
      "HERE\n",
      "sol_left = c,\n",
      "sol_right = aa,\n",
      "sol_middle=b\n",
      "\n",
      "S = aa, K = 1\n",
      "solution: \n",
      "\n",
      "\n",
      "S = asdf, K = 0\n",
      "solution: \n",
      "\n",
      "\n",
      "S = baaaaaa, K = 1\n",
      "solution: \n",
      "\n",
      "HERE\n",
      "sol_left = aaaaaa,\n",
      "sol_right = b,\n",
      "sol_middle=baaaaaa\n",
      "\n",
      "S = rytabbjj, K = 3\n",
      "solution: \n",
      "\n",
      "HERE\n",
      "sol_left = abbjj,\n",
      "sol_right = ryt,\n",
      "sol_middle=yta\n",
      "\n"
     ]
    }
   ],
   "source": [
    "def tests_solution_full():\n",
    "    test_set = [('oooooobbbbbbasdfaam', 4),\n",
    "              ('foobar', 3),\n",
    "               ('aabc', 2),\n",
    "               ('aa', 1),\n",
    "               ('asdf', 0), \n",
    "               \n",
    "              \n",
    "              ('baaaaaa', 1),\n",
    "              ('rytabbjj', 3)\n",
    "               ]\n",
    "    for test in test_set:\n",
    "        print(\"S = {}, K = {}\".format(test[0], test[1]))\n",
    "        print(\"solution: \\n\")\n",
    "        solution_array_of_change(test[0], test[1])\n",
    "        print(\"\")\n",
    "        \n",
    "tests_solution_full()"
   ]
  },
  {
   "cell_type": "code",
   "execution_count": null,
   "metadata": {},
   "outputs": [],
   "source": [
    "def tests_solution_middle():\n",
    "    test_set = [('aabc', 2),\n",
    "                ('aa', 1),\n",
    "                ('asdf', 0), \n",
    "                ('foobar', 3),\n",
    "               ('oooooobbbbbbasdfaam', 4),\n",
    "               ('baaaaaa', 1),\n",
    "               ('rytabbjj', 3)]\n",
    "    for test in test_set:\n",
    "        print(\"S = {}, K = {}\".format(test[0], test[1]))\n",
    "        print(\"solution_middle = {}\".format( solution_middle(test[0], test[1])))\n",
    "        print(\"\")\n",
    "        \n",
    "tests_solution_middle()"
   ]
  },
  {
   "cell_type": "code",
   "execution_count": 52,
   "metadata": {},
   "outputs": [
    {
     "name": "stdout",
     "output_type": "stream",
     "text": [
      "S = aabc, K = 2, solution = 1\n",
      "S = aa, K = 1, solution = 0\n",
      "S = asdf, K = 0, solution = 4\n",
      "S = foobar, K = 3, solution = 2\n",
      "S = oooooobbbbbbasdfaam, K = 4, solution = 5\n",
      "S = baaaaaa, K = 1, solution = 1\n"
     ]
    }
   ],
   "source": [
    "def test_solution_left_array():\n",
    "    test_set = [('aabc', 2),\n",
    "                ('aa', 1),\n",
    "                ('asdf', 0), \n",
    "                ('foobar', 3),\n",
    "               ('oooooobbbbbbasdfaam', 4),\n",
    "               ('baaaaaa', 1)]\n",
    "    for test in test_set:\n",
    "        print(\"S = {}, K = {}, solution = {}\".format(test[0], test[1], solution_array_of_change(test[0], test[1])))\n",
    "test_solution_left_array()"
   ]
  },
  {
   "cell_type": "code",
   "execution_count": null,
   "metadata": {},
   "outputs": [],
   "source": []
  }
 ],
 "metadata": {
  "kernelspec": {
   "display_name": "Python 3",
   "language": "python",
   "name": "python3"
  },
  "language_info": {
   "codemirror_mode": {
    "name": "ipython",
    "version": 3
   },
   "file_extension": ".py",
   "mimetype": "text/x-python",
   "name": "python",
   "nbconvert_exporter": "python",
   "pygments_lexer": "ipython3",
   "version": "3.7.2"
  }
 },
 "nbformat": 4,
 "nbformat_minor": 2
}
